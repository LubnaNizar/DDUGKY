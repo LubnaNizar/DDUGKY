{
 "cells": [
  {
   "cell_type": "markdown",
   "id": "244d1518",
   "metadata": {},
   "source": [
    "## Boolean masking"
   ]
  },
  {
   "cell_type": "code",
   "execution_count": 5,
   "id": "89569466",
   "metadata": {},
   "outputs": [],
   "source": [
    "import numpy as np\n",
    "import pandas as pd\n",
    "import warnings\n",
    "warnings.filterwarnings('ignore')\n"
   ]
  },
  {
   "cell_type": "code",
   "execution_count": 3,
   "id": "5cee2ba8",
   "metadata": {},
   "outputs": [
    {
     "data": {
      "text/html": [
       "<div>\n",
       "<style scoped>\n",
       "    .dataframe tbody tr th:only-of-type {\n",
       "        vertical-align: middle;\n",
       "    }\n",
       "\n",
       "    .dataframe tbody tr th {\n",
       "        vertical-align: top;\n",
       "    }\n",
       "\n",
       "    .dataframe thead th {\n",
       "        text-align: right;\n",
       "    }\n",
       "</style>\n",
       "<table border=\"1\" class=\"dataframe\">\n",
       "  <thead>\n",
       "    <tr style=\"text-align: right;\">\n",
       "      <th></th>\n",
       "      <th>show_id</th>\n",
       "      <th>type</th>\n",
       "      <th>title</th>\n",
       "      <th>director</th>\n",
       "      <th>cast</th>\n",
       "      <th>country</th>\n",
       "      <th>date_added</th>\n",
       "      <th>release_year</th>\n",
       "      <th>rating</th>\n",
       "      <th>duration</th>\n",
       "      <th>listed_in</th>\n",
       "      <th>description</th>\n",
       "    </tr>\n",
       "  </thead>\n",
       "  <tbody>\n",
       "    <tr>\n",
       "      <th>0</th>\n",
       "      <td>s1</td>\n",
       "      <td>Movie</td>\n",
       "      <td>Dick Johnson Is Dead</td>\n",
       "      <td>Kirsten Johnson</td>\n",
       "      <td>NaN</td>\n",
       "      <td>United States</td>\n",
       "      <td>September 25, 2021</td>\n",
       "      <td>2020</td>\n",
       "      <td>PG-13</td>\n",
       "      <td>90 min</td>\n",
       "      <td>Documentaries</td>\n",
       "      <td>As her father nears the end of his life, filmm...</td>\n",
       "    </tr>\n",
       "    <tr>\n",
       "      <th>1</th>\n",
       "      <td>s2</td>\n",
       "      <td>TV Show</td>\n",
       "      <td>Blood &amp; Water</td>\n",
       "      <td>NaN</td>\n",
       "      <td>Ama Qamata, Khosi Ngema, Gail Mabalane, Thaban...</td>\n",
       "      <td>South Africa</td>\n",
       "      <td>September 24, 2021</td>\n",
       "      <td>2021</td>\n",
       "      <td>TV-MA</td>\n",
       "      <td>2 Seasons</td>\n",
       "      <td>International TV Shows, TV Dramas, TV Mysteries</td>\n",
       "      <td>After crossing paths at a party, a Cape Town t...</td>\n",
       "    </tr>\n",
       "    <tr>\n",
       "      <th>2</th>\n",
       "      <td>s3</td>\n",
       "      <td>TV Show</td>\n",
       "      <td>Ganglands</td>\n",
       "      <td>Julien Leclercq</td>\n",
       "      <td>Sami Bouajila, Tracy Gotoas, Samuel Jouy, Nabi...</td>\n",
       "      <td>NaN</td>\n",
       "      <td>September 24, 2021</td>\n",
       "      <td>2021</td>\n",
       "      <td>TV-MA</td>\n",
       "      <td>1 Season</td>\n",
       "      <td>Crime TV Shows, International TV Shows, TV Act...</td>\n",
       "      <td>To protect his family from a powerful drug lor...</td>\n",
       "    </tr>\n",
       "    <tr>\n",
       "      <th>3</th>\n",
       "      <td>s4</td>\n",
       "      <td>TV Show</td>\n",
       "      <td>Jailbirds New Orleans</td>\n",
       "      <td>NaN</td>\n",
       "      <td>NaN</td>\n",
       "      <td>NaN</td>\n",
       "      <td>September 24, 2021</td>\n",
       "      <td>2021</td>\n",
       "      <td>TV-MA</td>\n",
       "      <td>1 Season</td>\n",
       "      <td>Docuseries, Reality TV</td>\n",
       "      <td>Feuds, flirtations and toilet talk go down amo...</td>\n",
       "    </tr>\n",
       "    <tr>\n",
       "      <th>4</th>\n",
       "      <td>s5</td>\n",
       "      <td>TV Show</td>\n",
       "      <td>Kota Factory</td>\n",
       "      <td>NaN</td>\n",
       "      <td>Mayur More, Jitendra Kumar, Ranjan Raj, Alam K...</td>\n",
       "      <td>India</td>\n",
       "      <td>September 24, 2021</td>\n",
       "      <td>2021</td>\n",
       "      <td>TV-MA</td>\n",
       "      <td>2 Seasons</td>\n",
       "      <td>International TV Shows, Romantic TV Shows, TV ...</td>\n",
       "      <td>In a city of coaching centers known to train I...</td>\n",
       "    </tr>\n",
       "  </tbody>\n",
       "</table>\n",
       "</div>"
      ],
      "text/plain": [
       "  show_id     type                  title         director  \\\n",
       "0      s1    Movie   Dick Johnson Is Dead  Kirsten Johnson   \n",
       "1      s2  TV Show          Blood & Water              NaN   \n",
       "2      s3  TV Show              Ganglands  Julien Leclercq   \n",
       "3      s4  TV Show  Jailbirds New Orleans              NaN   \n",
       "4      s5  TV Show           Kota Factory              NaN   \n",
       "\n",
       "                                                cast        country  \\\n",
       "0                                                NaN  United States   \n",
       "1  Ama Qamata, Khosi Ngema, Gail Mabalane, Thaban...   South Africa   \n",
       "2  Sami Bouajila, Tracy Gotoas, Samuel Jouy, Nabi...            NaN   \n",
       "3                                                NaN            NaN   \n",
       "4  Mayur More, Jitendra Kumar, Ranjan Raj, Alam K...          India   \n",
       "\n",
       "           date_added  release_year rating   duration  \\\n",
       "0  September 25, 2021          2020  PG-13     90 min   \n",
       "1  September 24, 2021          2021  TV-MA  2 Seasons   \n",
       "2  September 24, 2021          2021  TV-MA   1 Season   \n",
       "3  September 24, 2021          2021  TV-MA   1 Season   \n",
       "4  September 24, 2021          2021  TV-MA  2 Seasons   \n",
       "\n",
       "                                           listed_in  \\\n",
       "0                                      Documentaries   \n",
       "1    International TV Shows, TV Dramas, TV Mysteries   \n",
       "2  Crime TV Shows, International TV Shows, TV Act...   \n",
       "3                             Docuseries, Reality TV   \n",
       "4  International TV Shows, Romantic TV Shows, TV ...   \n",
       "\n",
       "                                         description  \n",
       "0  As her father nears the end of his life, filmm...  \n",
       "1  After crossing paths at a party, a Cape Town t...  \n",
       "2  To protect his family from a powerful drug lor...  \n",
       "3  Feuds, flirtations and toilet talk go down amo...  \n",
       "4  In a city of coaching centers known to train I...  "
      ]
     },
     "execution_count": 3,
     "metadata": {},
     "output_type": "execute_result"
    }
   ],
   "source": [
    "df=pd.read_csv(\"netflix_titles_2021.csv\")\n",
    "df.head()"
   ]
  },
  {
   "cell_type": "code",
   "execution_count": 7,
   "id": "7af99042",
   "metadata": {},
   "outputs": [
    {
     "data": {
      "text/plain": [
       "3        8\n",
       "7      128\n",
       "8      256\n",
       "9      512\n",
       "10    1024\n",
       "dtype: int64"
      ]
     },
     "execution_count": 7,
     "metadata": {},
     "output_type": "execute_result"
    }
   ],
   "source": [
    "twopowers_sr=pd.Series([1,2,4,8,16,32,64,128,256,512,1024])\n",
    "BM=[False,False,False,True,False,False,False,True,True,True,True]\n",
    "twopowers_sr[BM]"
   ]
  },
  {
   "cell_type": "code",
   "execution_count": 8,
   "id": "6d5fd7cc",
   "metadata": {},
   "outputs": [
    {
     "data": {
      "text/plain": [
       "9      512\n",
       "10    1024\n",
       "dtype: int64"
      ]
     },
     "execution_count": 8,
     "metadata": {},
     "output_type": "execute_result"
    }
   ],
   "source": [
    "BM=twopowers_sr>500\n",
    "twopowers_sr[BM]"
   ]
  },
  {
   "cell_type": "code",
   "execution_count": 9,
   "id": "d6aeb323",
   "metadata": {},
   "outputs": [
    {
     "data": {
      "text/plain": [
       "0      1\n",
       "1      2\n",
       "2      4\n",
       "3      8\n",
       "4     16\n",
       "5     32\n",
       "6     64\n",
       "7    128\n",
       "8    256\n",
       "dtype: int64"
      ]
     },
     "execution_count": 9,
     "metadata": {},
     "output_type": "execute_result"
    }
   ],
   "source": [
    "BM=twopowers_sr<500\n",
    "twopowers_sr[BM]"
   ]
  },
  {
   "cell_type": "code",
   "execution_count": 11,
   "id": "e257272a",
   "metadata": {},
   "outputs": [
    {
     "data": {
      "text/plain": [
       "0       2020\n",
       "1       2021\n",
       "2       2021\n",
       "3       2021\n",
       "4       2021\n",
       "        ... \n",
       "8802    2007\n",
       "8803    2018\n",
       "8804    2009\n",
       "8805    2006\n",
       "8806    2015\n",
       "Name: release_year, Length: 8807, dtype: int64"
      ]
     },
     "execution_count": 11,
     "metadata": {},
     "output_type": "execute_result"
    }
   ],
   "source": [
    "df['release_year']"
   ]
  },
  {
   "cell_type": "code",
   "execution_count": 13,
   "id": "d3fb79d4",
   "metadata": {},
   "outputs": [
    {
     "data": {
      "text/plain": [
       "3    2018\n",
       "4    2009\n",
       "6    2015\n",
       "dtype: int64"
      ]
     },
     "execution_count": 13,
     "metadata": {},
     "output_type": "execute_result"
    }
   ],
   "source": [
    "release_year=pd.Series([2020,2021,2007,2018,2009,2006,2015])\n",
    "BM=[False,False,False,True,True,False,True]\n",
    "release_year[BM]"
   ]
  },
  {
   "cell_type": "code",
   "execution_count": 15,
   "id": "cbe961b2",
   "metadata": {},
   "outputs": [
    {
     "data": {
      "text/plain": [
       "0       United States\n",
       "1        South Africa\n",
       "2                 NaN\n",
       "3                 NaN\n",
       "4               India\n",
       "            ...      \n",
       "8802    United States\n",
       "8803              NaN\n",
       "8804    United States\n",
       "8805    United States\n",
       "8806            India\n",
       "Name: country, Length: 8807, dtype: object"
      ]
     },
     "execution_count": 15,
     "metadata": {},
     "output_type": "execute_result"
    }
   ],
   "source": [
    "df['country']"
   ]
  },
  {
   "cell_type": "code",
   "execution_count": 16,
   "id": "3eea9d72",
   "metadata": {},
   "outputs": [
    {
     "data": {
      "text/plain": [
       "1    South Africa\n",
       "dtype: object"
      ]
     },
     "execution_count": 16,
     "metadata": {},
     "output_type": "execute_result"
    }
   ],
   "source": [
    "country=pd.Series(['United States','South Africa','India',])\n",
    "BM=[False,True,False]\n",
    "country[BM]"
   ]
  },
  {
   "cell_type": "code",
   "execution_count": 18,
   "id": "71f3d55a",
   "metadata": {},
   "outputs": [
    {
     "data": {
      "text/html": [
       "<div>\n",
       "<style scoped>\n",
       "    .dataframe tbody tr th:only-of-type {\n",
       "        vertical-align: middle;\n",
       "    }\n",
       "\n",
       "    .dataframe tbody tr th {\n",
       "        vertical-align: top;\n",
       "    }\n",
       "\n",
       "    .dataframe thead th {\n",
       "        text-align: right;\n",
       "    }\n",
       "</style>\n",
       "<table border=\"1\" class=\"dataframe\">\n",
       "  <thead>\n",
       "    <tr style=\"text-align: right;\">\n",
       "      <th></th>\n",
       "      <th>show_id</th>\n",
       "      <th>type</th>\n",
       "      <th>title</th>\n",
       "      <th>director</th>\n",
       "      <th>cast</th>\n",
       "      <th>country</th>\n",
       "      <th>date_added</th>\n",
       "      <th>release_year</th>\n",
       "      <th>rating</th>\n",
       "      <th>duration</th>\n",
       "      <th>listed_in</th>\n",
       "      <th>description</th>\n",
       "    </tr>\n",
       "  </thead>\n",
       "  <tbody>\n",
       "    <tr>\n",
       "      <th>0</th>\n",
       "      <td>s1</td>\n",
       "      <td>Movie</td>\n",
       "      <td>Dick Johnson Is Dead</td>\n",
       "      <td>Kirsten Johnson</td>\n",
       "      <td>NaN</td>\n",
       "      <td>United States</td>\n",
       "      <td>September 25, 2021</td>\n",
       "      <td>2020</td>\n",
       "      <td>PG-13</td>\n",
       "      <td>90 min</td>\n",
       "      <td>Documentaries</td>\n",
       "      <td>As her father nears the end of his life, filmm...</td>\n",
       "    </tr>\n",
       "    <tr>\n",
       "      <th>16</th>\n",
       "      <td>s17</td>\n",
       "      <td>Movie</td>\n",
       "      <td>Europe's Most Dangerous Man: Otto Skorzeny in ...</td>\n",
       "      <td>Pedro de Echave García, Pablo Azorín Williams</td>\n",
       "      <td>NaN</td>\n",
       "      <td>NaN</td>\n",
       "      <td>September 22, 2021</td>\n",
       "      <td>2020</td>\n",
       "      <td>TV-MA</td>\n",
       "      <td>67 min</td>\n",
       "      <td>Documentaries, International Movies</td>\n",
       "      <td>Declassified documents reveal the post-WWII li...</td>\n",
       "    </tr>\n",
       "    <tr>\n",
       "      <th>78</th>\n",
       "      <td>s79</td>\n",
       "      <td>Movie</td>\n",
       "      <td>Tughlaq Durbar</td>\n",
       "      <td>Delhiprasad Deenadayalan</td>\n",
       "      <td>Vijay Sethupathi, Parthiban, Raashi Khanna</td>\n",
       "      <td>NaN</td>\n",
       "      <td>September 11, 2021</td>\n",
       "      <td>2020</td>\n",
       "      <td>TV-14</td>\n",
       "      <td>145 min</td>\n",
       "      <td>Comedies, Dramas, International Movies</td>\n",
       "      <td>A budding politician has devious plans to rise...</td>\n",
       "    </tr>\n",
       "    <tr>\n",
       "      <th>84</th>\n",
       "      <td>s85</td>\n",
       "      <td>Movie</td>\n",
       "      <td>Omo Ghetto: the Saga</td>\n",
       "      <td>JJC Skillz, Funke Akindele</td>\n",
       "      <td>Funke Akindele, Ayo Makun, Chioma Chukwuka Akp...</td>\n",
       "      <td>Nigeria</td>\n",
       "      <td>September 10, 2021</td>\n",
       "      <td>2020</td>\n",
       "      <td>TV-MA</td>\n",
       "      <td>147 min</td>\n",
       "      <td>Action &amp; Adventure, Comedies, Dramas</td>\n",
       "      <td>Twins are reunited as a good-hearted female ga...</td>\n",
       "    </tr>\n",
       "    <tr>\n",
       "      <th>103</th>\n",
       "      <td>s104</td>\n",
       "      <td>Movie</td>\n",
       "      <td>Shadow Parties</td>\n",
       "      <td>Yemi Amodu</td>\n",
       "      <td>Jide Kosoko, Omotola Jalade-Ekeinde, Yemi Blaq...</td>\n",
       "      <td>NaN</td>\n",
       "      <td>September 6, 2021</td>\n",
       "      <td>2020</td>\n",
       "      <td>TV-MA</td>\n",
       "      <td>117 min</td>\n",
       "      <td>Dramas, International Movies, Thrillers</td>\n",
       "      <td>A family faces destruction in a long-running c...</td>\n",
       "    </tr>\n",
       "    <tr>\n",
       "      <th>...</th>\n",
       "      <td>...</td>\n",
       "      <td>...</td>\n",
       "      <td>...</td>\n",
       "      <td>...</td>\n",
       "      <td>...</td>\n",
       "      <td>...</td>\n",
       "      <td>...</td>\n",
       "      <td>...</td>\n",
       "      <td>...</td>\n",
       "      <td>...</td>\n",
       "      <td>...</td>\n",
       "      <td>...</td>\n",
       "    </tr>\n",
       "    <tr>\n",
       "      <th>3046</th>\n",
       "      <td>s3047</td>\n",
       "      <td>Movie</td>\n",
       "      <td>All the Freckles in the World</td>\n",
       "      <td>Yibrán Asuad</td>\n",
       "      <td>Hánssel Casillas, Loreto Peralta, Andrea Sutto...</td>\n",
       "      <td>Mexico</td>\n",
       "      <td>January 3, 2020</td>\n",
       "      <td>2020</td>\n",
       "      <td>TV-14</td>\n",
       "      <td>90 min</td>\n",
       "      <td>Comedies, International Movies, Romantic Movies</td>\n",
       "      <td>Thirteen-year-old José Miguel is immune to 199...</td>\n",
       "    </tr>\n",
       "    <tr>\n",
       "      <th>3060</th>\n",
       "      <td>s3061</td>\n",
       "      <td>Movie</td>\n",
       "      <td>Ghost Stories</td>\n",
       "      <td>Anurag Kashyap, Dibakar Banerjee, Karan Johar,...</td>\n",
       "      <td>Janhvi Kapoor, Sobhita Dhulipala, Sukant Goel,...</td>\n",
       "      <td>India</td>\n",
       "      <td>January 1, 2020</td>\n",
       "      <td>2020</td>\n",
       "      <td>TV-MA</td>\n",
       "      <td>145 min</td>\n",
       "      <td>Horror Movies, International Movies, Thrillers</td>\n",
       "      <td>The directors of Emmy-nominated \"Lust Stories\"...</td>\n",
       "    </tr>\n",
       "    <tr>\n",
       "      <th>5972</th>\n",
       "      <td>s5973</td>\n",
       "      <td>Movie</td>\n",
       "      <td>#cats_the_mewvie</td>\n",
       "      <td>Michael Margolis</td>\n",
       "      <td>NaN</td>\n",
       "      <td>Canada</td>\n",
       "      <td>February 5, 2020</td>\n",
       "      <td>2020</td>\n",
       "      <td>TV-14</td>\n",
       "      <td>90 min</td>\n",
       "      <td>Documentaries, International Movies</td>\n",
       "      <td>This pawesome documentary explores how our fel...</td>\n",
       "    </tr>\n",
       "    <tr>\n",
       "      <th>7594</th>\n",
       "      <td>s7595</td>\n",
       "      <td>Movie</td>\n",
       "      <td>Norm of the North: Family Vacation</td>\n",
       "      <td>Anthony Bell</td>\n",
       "      <td>Andrew Toth, Lisa Durupt, Jonathan Holmes, Pau...</td>\n",
       "      <td>United States</td>\n",
       "      <td>May 25, 2020</td>\n",
       "      <td>2020</td>\n",
       "      <td>TV-Y7</td>\n",
       "      <td>89 min</td>\n",
       "      <td>Children &amp; Family Movies</td>\n",
       "      <td>Stressed by his duties as king and father, Nor...</td>\n",
       "    </tr>\n",
       "    <tr>\n",
       "      <th>8099</th>\n",
       "      <td>s8100</td>\n",
       "      <td>Movie</td>\n",
       "      <td>Straight Up</td>\n",
       "      <td>James Sweeney</td>\n",
       "      <td>James Sweeney, Katie Findlay, Randall Park, Hi...</td>\n",
       "      <td>United States</td>\n",
       "      <td>June 26, 2020</td>\n",
       "      <td>2020</td>\n",
       "      <td>TV-MA</td>\n",
       "      <td>96 min</td>\n",
       "      <td>Comedies, Independent Movies, LGBTQ Movies</td>\n",
       "      <td>When a gay brainiac with OCD questions his ide...</td>\n",
       "    </tr>\n",
       "  </tbody>\n",
       "</table>\n",
       "<p>517 rows × 12 columns</p>\n",
       "</div>"
      ],
      "text/plain": [
       "     show_id   type                                              title  \\\n",
       "0         s1  Movie                               Dick Johnson Is Dead   \n",
       "16       s17  Movie  Europe's Most Dangerous Man: Otto Skorzeny in ...   \n",
       "78       s79  Movie                                     Tughlaq Durbar   \n",
       "84       s85  Movie                               Omo Ghetto: the Saga   \n",
       "103     s104  Movie                                     Shadow Parties   \n",
       "...      ...    ...                                                ...   \n",
       "3046   s3047  Movie                      All the Freckles in the World   \n",
       "3060   s3061  Movie                                      Ghost Stories   \n",
       "5972   s5973  Movie                                   #cats_the_mewvie   \n",
       "7594   s7595  Movie                 Norm of the North: Family Vacation   \n",
       "8099   s8100  Movie                                        Straight Up   \n",
       "\n",
       "                                               director  \\\n",
       "0                                       Kirsten Johnson   \n",
       "16        Pedro de Echave García, Pablo Azorín Williams   \n",
       "78                             Delhiprasad Deenadayalan   \n",
       "84                           JJC Skillz, Funke Akindele   \n",
       "103                                          Yemi Amodu   \n",
       "...                                                 ...   \n",
       "3046                                       Yibrán Asuad   \n",
       "3060  Anurag Kashyap, Dibakar Banerjee, Karan Johar,...   \n",
       "5972                                   Michael Margolis   \n",
       "7594                                       Anthony Bell   \n",
       "8099                                      James Sweeney   \n",
       "\n",
       "                                                   cast        country  \\\n",
       "0                                                   NaN  United States   \n",
       "16                                                  NaN            NaN   \n",
       "78           Vijay Sethupathi, Parthiban, Raashi Khanna            NaN   \n",
       "84    Funke Akindele, Ayo Makun, Chioma Chukwuka Akp...        Nigeria   \n",
       "103   Jide Kosoko, Omotola Jalade-Ekeinde, Yemi Blaq...            NaN   \n",
       "...                                                 ...            ...   \n",
       "3046  Hánssel Casillas, Loreto Peralta, Andrea Sutto...         Mexico   \n",
       "3060  Janhvi Kapoor, Sobhita Dhulipala, Sukant Goel,...          India   \n",
       "5972                                                NaN         Canada   \n",
       "7594  Andrew Toth, Lisa Durupt, Jonathan Holmes, Pau...  United States   \n",
       "8099  James Sweeney, Katie Findlay, Randall Park, Hi...  United States   \n",
       "\n",
       "              date_added  release_year rating duration  \\\n",
       "0     September 25, 2021          2020  PG-13   90 min   \n",
       "16    September 22, 2021          2020  TV-MA   67 min   \n",
       "78    September 11, 2021          2020  TV-14  145 min   \n",
       "84    September 10, 2021          2020  TV-MA  147 min   \n",
       "103    September 6, 2021          2020  TV-MA  117 min   \n",
       "...                  ...           ...    ...      ...   \n",
       "3046     January 3, 2020          2020  TV-14   90 min   \n",
       "3060     January 1, 2020          2020  TV-MA  145 min   \n",
       "5972    February 5, 2020          2020  TV-14   90 min   \n",
       "7594        May 25, 2020          2020  TV-Y7   89 min   \n",
       "8099       June 26, 2020          2020  TV-MA   96 min   \n",
       "\n",
       "                                            listed_in  \\\n",
       "0                                       Documentaries   \n",
       "16                Documentaries, International Movies   \n",
       "78             Comedies, Dramas, International Movies   \n",
       "84               Action & Adventure, Comedies, Dramas   \n",
       "103           Dramas, International Movies, Thrillers   \n",
       "...                                               ...   \n",
       "3046  Comedies, International Movies, Romantic Movies   \n",
       "3060   Horror Movies, International Movies, Thrillers   \n",
       "5972              Documentaries, International Movies   \n",
       "7594                         Children & Family Movies   \n",
       "8099       Comedies, Independent Movies, LGBTQ Movies   \n",
       "\n",
       "                                            description  \n",
       "0     As her father nears the end of his life, filmm...  \n",
       "16    Declassified documents reveal the post-WWII li...  \n",
       "78    A budding politician has devious plans to rise...  \n",
       "84    Twins are reunited as a good-hearted female ga...  \n",
       "103   A family faces destruction in a long-running c...  \n",
       "...                                                 ...  \n",
       "3046  Thirteen-year-old José Miguel is immune to 199...  \n",
       "3060  The directors of Emmy-nominated \"Lust Stories\"...  \n",
       "5972  This pawesome documentary explores how our fel...  \n",
       "7594  Stressed by his duties as king and father, Nor...  \n",
       "8099  When a gay brainiac with OCD questions his ide...  \n",
       "\n",
       "[517 rows x 12 columns]"
      ]
     },
     "execution_count": 18,
     "metadata": {},
     "output_type": "execute_result"
    }
   ],
   "source": [
    "df4=df.query('release_year==2020 & type==\"Movie\"')\n",
    "df4"
   ]
  },
  {
   "cell_type": "code",
   "execution_count": 19,
   "id": "95f79169",
   "metadata": {},
   "outputs": [
    {
     "data": {
      "text/plain": [
       "517"
      ]
     },
     "execution_count": 19,
     "metadata": {},
     "output_type": "execute_result"
    }
   ],
   "source": [
    "df4['type'].count()"
   ]
  },
  {
   "cell_type": "code",
   "execution_count": 20,
   "id": "98ea0ff0",
   "metadata": {},
   "outputs": [
    {
     "data": {
      "text/plain": [
       "8807"
      ]
     },
     "execution_count": 20,
     "metadata": {},
     "output_type": "execute_result"
    }
   ],
   "source": [
    "df['type'].count()"
   ]
  },
  {
   "cell_type": "markdown",
   "id": "b2cb3cc6",
   "metadata": {},
   "source": [
    "## number of movies released in 2020"
   ]
  },
  {
   "cell_type": "code",
   "execution_count": 26,
   "id": "c4229c60",
   "metadata": {},
   "outputs": [],
   "source": [
    "BM=df.release_year==2020"
   ]
  },
  {
   "cell_type": "code",
   "execution_count": 28,
   "id": "224d1baa",
   "metadata": {},
   "outputs": [
    {
     "data": {
      "text/plain": [
       "2020    953\n",
       "Name: release_year, dtype: int64"
      ]
     },
     "execution_count": 28,
     "metadata": {},
     "output_type": "execute_result"
    }
   ],
   "source": [
    "df[BM].release_year.value_counts()"
   ]
  },
  {
   "cell_type": "markdown",
   "id": "8f3b5048",
   "metadata": {},
   "source": [
    "## display ratings of tv shows each year"
   ]
  },
  {
   "cell_type": "code",
   "execution_count": 31,
   "id": "f1c864de",
   "metadata": {},
   "outputs": [],
   "source": [
    "BM=df.type=='TV Show'"
   ]
  },
  {
   "cell_type": "code",
   "execution_count": 32,
   "id": "fac1163f",
   "metadata": {},
   "outputs": [
    {
     "data": {
      "text/plain": [
       "2020    436\n",
       "2019    397\n",
       "2018    380\n",
       "2021    315\n",
       "2017    265\n",
       "2016    244\n",
       "2015    162\n",
       "2014     88\n",
       "2012     64\n",
       "2013     63\n",
       "2010     40\n",
       "2011     40\n",
       "2009     34\n",
       "2008     23\n",
       "2006     14\n",
       "2007     14\n",
       "2005     13\n",
       "2003     10\n",
       "2004      9\n",
       "1999      7\n",
       "2002      7\n",
       "2001      5\n",
       "1993      4\n",
       "2000      4\n",
       "1997      4\n",
       "1998      4\n",
       "1990      3\n",
       "1996      3\n",
       "1992      3\n",
       "1995      2\n",
       "1994      2\n",
       "1988      2\n",
       "1986      2\n",
       "1989      1\n",
       "1967      1\n",
       "1985      1\n",
       "1946      1\n",
       "1981      1\n",
       "1972      1\n",
       "1979      1\n",
       "1977      1\n",
       "1991      1\n",
       "1974      1\n",
       "1925      1\n",
       "1945      1\n",
       "1963      1\n",
       "Name: release_year, dtype: int64"
      ]
     },
     "execution_count": 32,
     "metadata": {},
     "output_type": "execute_result"
    }
   ],
   "source": [
    "df[BM].release_year.value_counts()"
   ]
  }
 ],
 "metadata": {
  "kernelspec": {
   "display_name": "Python 3 (ipykernel)",
   "language": "python",
   "name": "python3"
  },
  "language_info": {
   "codemirror_mode": {
    "name": "ipython",
    "version": 3
   },
   "file_extension": ".py",
   "mimetype": "text/x-python",
   "name": "python",
   "nbconvert_exporter": "python",
   "pygments_lexer": "ipython3",
   "version": "3.9.13"
  }
 },
 "nbformat": 4,
 "nbformat_minor": 5
}
