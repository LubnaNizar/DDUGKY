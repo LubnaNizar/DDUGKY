{
 "cells": [
  {
   "cell_type": "markdown",
   "id": "cd376d13",
   "metadata": {},
   "source": [
    "## creating a dataframe\n",
    "     "
   ]
  },
  {
   "cell_type": "code",
   "execution_count": 7,
   "id": "edc4d275",
   "metadata": {},
   "outputs": [
    {
     "data": {
      "text/html": [
       "<div>\n",
       "<style scoped>\n",
       "    .dataframe tbody tr th:only-of-type {\n",
       "        vertical-align: middle;\n",
       "    }\n",
       "\n",
       "    .dataframe tbody tr th {\n",
       "        vertical-align: top;\n",
       "    }\n",
       "\n",
       "    .dataframe thead th {\n",
       "        text-align: right;\n",
       "    }\n",
       "</style>\n",
       "<table border=\"1\" class=\"dataframe\">\n",
       "  <thead>\n",
       "    <tr style=\"text-align: right;\">\n",
       "      <th></th>\n",
       "      <th>BRAND</th>\n",
       "      <th>PRICE</th>\n",
       "    </tr>\n",
       "  </thead>\n",
       "  <tbody>\n",
       "    <tr>\n",
       "      <th>0</th>\n",
       "      <td>HONDA</td>\n",
       "      <td>22000</td>\n",
       "    </tr>\n",
       "    <tr>\n",
       "      <th>1</th>\n",
       "      <td>TOYOTA</td>\n",
       "      <td>25000</td>\n",
       "    </tr>\n",
       "    <tr>\n",
       "      <th>2</th>\n",
       "      <td>AUDI</td>\n",
       "      <td>27000</td>\n",
       "    </tr>\n",
       "    <tr>\n",
       "      <th>3</th>\n",
       "      <td>FORD</td>\n",
       "      <td>35000</td>\n",
       "    </tr>\n",
       "  </tbody>\n",
       "</table>\n",
       "</div>"
      ],
      "text/plain": [
       "    BRAND  PRICE\n",
       "0   HONDA  22000\n",
       "1  TOYOTA  25000\n",
       "2    AUDI  27000\n",
       "3    FORD  35000"
      ]
     },
     "execution_count": 7,
     "metadata": {},
     "output_type": "execute_result"
    }
   ],
   "source": [
    "import pandas as pd\n",
    "import numpy as np\n",
    "import warnings\n",
    "warnings.filterwarnings('ignore')\n",
    "\n",
    "cars={'BRAND':['HONDA','TOYOTA','AUDI','FORD'],\n",
    "     'PRICE':[22000,25000,27000,35000] \n",
    "     }\n",
    "df=pd.DataFrame(cars)\n",
    "df.head()"
   ]
  },
  {
   "cell_type": "code",
   "execution_count": 26,
   "id": "1b0fc018",
   "metadata": {},
   "outputs": [
    {
     "data": {
      "text/html": [
       "<div>\n",
       "<style scoped>\n",
       "    .dataframe tbody tr th:only-of-type {\n",
       "        vertical-align: middle;\n",
       "    }\n",
       "\n",
       "    .dataframe tbody tr th {\n",
       "        vertical-align: top;\n",
       "    }\n",
       "\n",
       "    .dataframe thead th {\n",
       "        text-align: right;\n",
       "    }\n",
       "</style>\n",
       "<table border=\"1\" class=\"dataframe\">\n",
       "  <thead>\n",
       "    <tr style=\"text-align: right;\">\n",
       "      <th></th>\n",
       "      <th>NAME</th>\n",
       "      <th>PYTHON</th>\n",
       "      <th>STAT</th>\n",
       "      <th>TOTAL</th>\n",
       "      <th>PERCENTAGE</th>\n",
       "    </tr>\n",
       "  </thead>\n",
       "  <tbody>\n",
       "    <tr>\n",
       "      <th>0</th>\n",
       "      <td>Abhimanyu Ravi CR</td>\n",
       "      <td>24</td>\n",
       "      <td>15</td>\n",
       "      <td>39</td>\n",
       "      <td>86.67</td>\n",
       "    </tr>\n",
       "    <tr>\n",
       "      <th>1</th>\n",
       "      <td>Ajith TA</td>\n",
       "      <td>25</td>\n",
       "      <td>15</td>\n",
       "      <td>40</td>\n",
       "      <td>88.89</td>\n",
       "    </tr>\n",
       "    <tr>\n",
       "      <th>2</th>\n",
       "      <td>AKSHAY A</td>\n",
       "      <td>24</td>\n",
       "      <td>18</td>\n",
       "      <td>42</td>\n",
       "      <td>93.33</td>\n",
       "    </tr>\n",
       "    <tr>\n",
       "      <th>3</th>\n",
       "      <td>Alen Tom Shaji</td>\n",
       "      <td>25</td>\n",
       "      <td>18</td>\n",
       "      <td>43</td>\n",
       "      <td>95.56</td>\n",
       "    </tr>\n",
       "    <tr>\n",
       "      <th>4</th>\n",
       "      <td>Anand Anil</td>\n",
       "      <td>25</td>\n",
       "      <td>16</td>\n",
       "      <td>41</td>\n",
       "      <td>91.11</td>\n",
       "    </tr>\n",
       "    <tr>\n",
       "      <th>5</th>\n",
       "      <td>Ansal M T</td>\n",
       "      <td>25</td>\n",
       "      <td>19</td>\n",
       "      <td>44</td>\n",
       "      <td>97.78</td>\n",
       "    </tr>\n",
       "    <tr>\n",
       "      <th>6</th>\n",
       "      <td>ARUN KUMAR N</td>\n",
       "      <td>24</td>\n",
       "      <td>15</td>\n",
       "      <td>39</td>\n",
       "      <td>86.67</td>\n",
       "    </tr>\n",
       "    <tr>\n",
       "      <th>7</th>\n",
       "      <td>Aswin C S</td>\n",
       "      <td>24</td>\n",
       "      <td>13</td>\n",
       "      <td>37</td>\n",
       "      <td>82.22</td>\n",
       "    </tr>\n",
       "    <tr>\n",
       "      <th>8</th>\n",
       "      <td>DIAVOOD NASSAR</td>\n",
       "      <td>24</td>\n",
       "      <td>16</td>\n",
       "      <td>40</td>\n",
       "      <td>88.89</td>\n",
       "    </tr>\n",
       "    <tr>\n",
       "      <th>9</th>\n",
       "      <td>HARIPRIYA.K.U</td>\n",
       "      <td>24</td>\n",
       "      <td>17</td>\n",
       "      <td>41</td>\n",
       "      <td>91.11</td>\n",
       "    </tr>\n",
       "    <tr>\n",
       "      <th>10</th>\n",
       "      <td>Indrajith Kk</td>\n",
       "      <td>25</td>\n",
       "      <td>13</td>\n",
       "      <td>38</td>\n",
       "      <td>84.44</td>\n",
       "    </tr>\n",
       "    <tr>\n",
       "      <th>11</th>\n",
       "      <td>Jishnu vs</td>\n",
       "      <td>25</td>\n",
       "      <td>15</td>\n",
       "      <td>40</td>\n",
       "      <td>88.89</td>\n",
       "    </tr>\n",
       "    <tr>\n",
       "      <th>12</th>\n",
       "      <td>Jishnuraj mp</td>\n",
       "      <td>23</td>\n",
       "      <td>15</td>\n",
       "      <td>38</td>\n",
       "      <td>84.44</td>\n",
       "    </tr>\n",
       "    <tr>\n",
       "      <th>13</th>\n",
       "      <td>JOBIKA</td>\n",
       "      <td>24</td>\n",
       "      <td>13</td>\n",
       "      <td>37</td>\n",
       "      <td>82.22</td>\n",
       "    </tr>\n",
       "    <tr>\n",
       "      <th>14</th>\n",
       "      <td>keerthi ravi</td>\n",
       "      <td>25</td>\n",
       "      <td>16</td>\n",
       "      <td>41</td>\n",
       "      <td>91.11</td>\n",
       "    </tr>\n",
       "    <tr>\n",
       "      <th>15</th>\n",
       "      <td>kiran k s</td>\n",
       "      <td>24</td>\n",
       "      <td>20</td>\n",
       "      <td>44</td>\n",
       "      <td>97.78</td>\n",
       "    </tr>\n",
       "    <tr>\n",
       "      <th>16</th>\n",
       "      <td>LUBNA NIZAR</td>\n",
       "      <td>24</td>\n",
       "      <td>16</td>\n",
       "      <td>40</td>\n",
       "      <td>88.89</td>\n",
       "    </tr>\n",
       "    <tr>\n",
       "      <th>17</th>\n",
       "      <td>Mancy Mamachan</td>\n",
       "      <td>25</td>\n",
       "      <td>16</td>\n",
       "      <td>41</td>\n",
       "      <td>91.11</td>\n",
       "    </tr>\n",
       "    <tr>\n",
       "      <th>18</th>\n",
       "      <td>merlin p m</td>\n",
       "      <td>24</td>\n",
       "      <td>16</td>\n",
       "      <td>40</td>\n",
       "      <td>88.89</td>\n",
       "    </tr>\n",
       "    <tr>\n",
       "      <th>19</th>\n",
       "      <td>Mohammed Safeer</td>\n",
       "      <td>24</td>\n",
       "      <td>15</td>\n",
       "      <td>39</td>\n",
       "      <td>86.67</td>\n",
       "    </tr>\n",
       "    <tr>\n",
       "      <th>20</th>\n",
       "      <td>Muhammed Siraj k</td>\n",
       "      <td>24</td>\n",
       "      <td>19</td>\n",
       "      <td>43</td>\n",
       "      <td>95.56</td>\n",
       "    </tr>\n",
       "    <tr>\n",
       "      <th>21</th>\n",
       "      <td>Nandakrishnan N</td>\n",
       "      <td>0</td>\n",
       "      <td>0</td>\n",
       "      <td>0</td>\n",
       "      <td>0.00</td>\n",
       "    </tr>\n",
       "    <tr>\n",
       "      <th>22</th>\n",
       "      <td>NAJMI JAHANGIR</td>\n",
       "      <td>25</td>\n",
       "      <td>13</td>\n",
       "      <td>38</td>\n",
       "      <td>84.44</td>\n",
       "    </tr>\n",
       "    <tr>\n",
       "      <th>23</th>\n",
       "      <td>Nida Musthafa</td>\n",
       "      <td>25</td>\n",
       "      <td>15</td>\n",
       "      <td>40</td>\n",
       "      <td>88.89</td>\n",
       "    </tr>\n",
       "    <tr>\n",
       "      <th>24</th>\n",
       "      <td>RAHUL N</td>\n",
       "      <td>25</td>\n",
       "      <td>16</td>\n",
       "      <td>41</td>\n",
       "      <td>91.11</td>\n",
       "    </tr>\n",
       "    <tr>\n",
       "      <th>25</th>\n",
       "      <td>Ramshad TA</td>\n",
       "      <td>25</td>\n",
       "      <td>19</td>\n",
       "      <td>44</td>\n",
       "      <td>97.78</td>\n",
       "    </tr>\n",
       "    <tr>\n",
       "      <th>26</th>\n",
       "      <td>Sanika Sajeevan</td>\n",
       "      <td>25</td>\n",
       "      <td>17</td>\n",
       "      <td>42</td>\n",
       "      <td>93.33</td>\n",
       "    </tr>\n",
       "    <tr>\n",
       "      <th>27</th>\n",
       "      <td>Sanoy K M</td>\n",
       "      <td>24</td>\n",
       "      <td>15</td>\n",
       "      <td>39</td>\n",
       "      <td>86.67</td>\n",
       "    </tr>\n",
       "    <tr>\n",
       "      <th>28</th>\n",
       "      <td>shammas n m</td>\n",
       "      <td>24</td>\n",
       "      <td>17</td>\n",
       "      <td>41</td>\n",
       "      <td>91.11</td>\n",
       "    </tr>\n",
       "    <tr>\n",
       "      <th>29</th>\n",
       "      <td>Smijith CS</td>\n",
       "      <td>24</td>\n",
       "      <td>13</td>\n",
       "      <td>37</td>\n",
       "      <td>82.22</td>\n",
       "    </tr>\n",
       "    <tr>\n",
       "      <th>30</th>\n",
       "      <td>Sneha Shaji</td>\n",
       "      <td>22</td>\n",
       "      <td>13</td>\n",
       "      <td>35</td>\n",
       "      <td>77.78</td>\n",
       "    </tr>\n",
       "    <tr>\n",
       "      <th>31</th>\n",
       "      <td>soorya.s. nair</td>\n",
       "      <td>24</td>\n",
       "      <td>16</td>\n",
       "      <td>40</td>\n",
       "      <td>88.89</td>\n",
       "    </tr>\n",
       "    <tr>\n",
       "      <th>32</th>\n",
       "      <td>SWATHIAS</td>\n",
       "      <td>25</td>\n",
       "      <td>16</td>\n",
       "      <td>41</td>\n",
       "      <td>91.11</td>\n",
       "    </tr>\n",
       "    <tr>\n",
       "      <th>33</th>\n",
       "      <td>vidhya ag</td>\n",
       "      <td>23</td>\n",
       "      <td>17</td>\n",
       "      <td>40</td>\n",
       "      <td>88.89</td>\n",
       "    </tr>\n",
       "    <tr>\n",
       "      <th>34</th>\n",
       "      <td>Vishnu Mukundan</td>\n",
       "      <td>24</td>\n",
       "      <td>17</td>\n",
       "      <td>41</td>\n",
       "      <td>91.11</td>\n",
       "    </tr>\n",
       "  </tbody>\n",
       "</table>\n",
       "</div>"
      ],
      "text/plain": [
       "                 NAME  PYTHON  STAT  TOTAL  PERCENTAGE\n",
       "0   Abhimanyu Ravi CR      24    15     39       86.67\n",
       "1            Ajith TA      25    15     40       88.89\n",
       "2            AKSHAY A      24    18     42       93.33\n",
       "3      Alen Tom Shaji      25    18     43       95.56\n",
       "4          Anand Anil      25    16     41       91.11\n",
       "5           Ansal M T      25    19     44       97.78\n",
       "6        ARUN KUMAR N      24    15     39       86.67\n",
       "7           Aswin C S      24    13     37       82.22\n",
       "8      DIAVOOD NASSAR      24    16     40       88.89\n",
       "9       HARIPRIYA.K.U      24    17     41       91.11\n",
       "10       Indrajith Kk      25    13     38       84.44\n",
       "11          Jishnu vs      25    15     40       88.89\n",
       "12       Jishnuraj mp      23    15     38       84.44\n",
       "13             JOBIKA      24    13     37       82.22\n",
       "14       keerthi ravi      25    16     41       91.11\n",
       "15          kiran k s      24    20     44       97.78\n",
       "16        LUBNA NIZAR      24    16     40       88.89\n",
       "17     Mancy Mamachan      25    16     41       91.11\n",
       "18         merlin p m      24    16     40       88.89\n",
       "19    Mohammed Safeer      24    15     39       86.67\n",
       "20   Muhammed Siraj k      24    19     43       95.56\n",
       "21    Nandakrishnan N       0     0      0        0.00\n",
       "22     NAJMI JAHANGIR      25    13     38       84.44\n",
       "23      Nida Musthafa      25    15     40       88.89\n",
       "24            RAHUL N      25    16     41       91.11\n",
       "25         Ramshad TA      25    19     44       97.78\n",
       "26    Sanika Sajeevan      25    17     42       93.33\n",
       "27          Sanoy K M      24    15     39       86.67\n",
       "28        shammas n m      24    17     41       91.11\n",
       "29         Smijith CS      24    13     37       82.22\n",
       "30        Sneha Shaji      22    13     35       77.78\n",
       "31     soorya.s. nair      24    16     40       88.89\n",
       "32           SWATHIAS      25    16     41       91.11\n",
       "33          vidhya ag      23    17     40       88.89\n",
       "34    Vishnu Mukundan      24    17     41       91.11"
      ]
     },
     "execution_count": 26,
     "metadata": {},
     "output_type": "execute_result"
    }
   ],
   "source": [
    "student_details={'NAME':['Abhimanyu Ravi CR','Ajith TA','AKSHAY A','Alen Tom Shaji','Anand Anil','Ansal M T','ARUN KUMAR N','Aswin C S','DIAVOOD NASSAR','HARIPRIYA.K.U','Indrajith Kk','Jishnu vs','Jishnuraj mp','JOBIKA','keerthi ravi','kiran k s','LUBNA NIZAR','Mancy Mamachan','merlin p m','Mohammed Safeer','Muhammed Siraj k','Nandakrishnan N','NAJMI JAHANGIR','Nida Musthafa','RAHUL N','Ramshad TA','Sanika Sajeevan','Sanoy K M','shammas n m','Smijith CS','Sneha Shaji','soorya.s. nair','SWATHIAS','vidhya ag','Vishnu Mukundan'],\n",
    "'PYTHON':[24,25,24,25,25,25,24,24,24,24,25,25,23,24,25,24,24,25,24,24,24,0,25,25,25,25,25,24,24,24,22,24,25,23,24],\n",
    "'STAT':[15,15,18,18,16,19,15,13,16,17,13,15,15,13,16,20,16,16,16,15,19,0,13,15,16,19,17,15,17,13,13,16,16,17,17],\n",
    "'TOTAL':[39,40,42,43,41,44,39,37,40,41,38,40,38,37,41,44,40,41,40,39,43,0,38,40,41,44,42,39,41,37,35,40,41,40,41],                \n",
    "'PERCENTAGE':[86.67,88.89,93.33,95.56,91.11,97.78,86.67,82.22,88.89,91.11,84.44,88.89,84.44,82.22,91.11,97.78,88.89,91.11,88.89,86.67,95.56,0,84.44,88.89,91.11,97.78,93.33,86.67,91.11,82.22,77.78,88.89,91.11,88.89,91.11]          \n",
    "                }\n",
    "df=pd.DataFrame(student_details)\n",
    "df"
   ]
  },
  {
   "cell_type": "markdown",
   "id": "108b22fa",
   "metadata": {},
   "source": [
    "## top rank"
   ]
  },
  {
   "cell_type": "code",
   "execution_count": 28,
   "id": "f56614d0",
   "metadata": {},
   "outputs": [
    {
     "data": {
      "text/plain": [
       "44"
      ]
     },
     "execution_count": 28,
     "metadata": {},
     "output_type": "execute_result"
    }
   ],
   "source": [
    "df['TOTAL'].max()"
   ]
  },
  {
   "cell_type": "code",
   "execution_count": 29,
   "id": "053e0321",
   "metadata": {},
   "outputs": [
    {
     "data": {
      "text/plain": [
       "0"
      ]
     },
     "execution_count": 29,
     "metadata": {},
     "output_type": "execute_result"
    }
   ],
   "source": [
    "df['TOTAL'].min()"
   ]
  },
  {
   "cell_type": "markdown",
   "id": "46ebf078",
   "metadata": {},
   "source": [
    "## average"
   ]
  },
  {
   "cell_type": "code",
   "execution_count": 30,
   "id": "2ca51605",
   "metadata": {},
   "outputs": [
    {
     "data": {
      "text/plain": [
       "39.02857142857143"
      ]
     },
     "execution_count": 30,
     "metadata": {},
     "output_type": "execute_result"
    }
   ],
   "source": [
    "df['TOTAL'].mean()"
   ]
  },
  {
   "cell_type": "code",
   "execution_count": 31,
   "id": "857ada7f",
   "metadata": {
    "scrolled": true
   },
   "outputs": [
    {
     "data": {
      "text/plain": [
       "7.106276075685883"
      ]
     },
     "execution_count": 31,
     "metadata": {},
     "output_type": "execute_result"
    }
   ],
   "source": [
    "df['TOTAL'].std()"
   ]
  },
  {
   "cell_type": "markdown",
   "id": "b8a94603",
   "metadata": {},
   "source": [
    "### Top student"
   ]
  },
  {
   "cell_type": "code",
   "execution_count": 33,
   "id": "4f28f806",
   "metadata": {
    "scrolled": true
   },
   "outputs": [
    {
     "data": {
      "text/plain": [
       "44"
      ]
     },
     "execution_count": 33,
     "metadata": {},
     "output_type": "execute_result"
    }
   ],
   "source": [
    "df['TOTAL'].max()"
   ]
  },
  {
   "cell_type": "code",
   "execution_count": 34,
   "id": "afe533e8",
   "metadata": {},
   "outputs": [],
   "source": [
    "top_student=df[df['TOTAL']==44]"
   ]
  },
  {
   "cell_type": "code",
   "execution_count": 35,
   "id": "4433826b",
   "metadata": {},
   "outputs": [
    {
     "data": {
      "text/html": [
       "<div>\n",
       "<style scoped>\n",
       "    .dataframe tbody tr th:only-of-type {\n",
       "        vertical-align: middle;\n",
       "    }\n",
       "\n",
       "    .dataframe tbody tr th {\n",
       "        vertical-align: top;\n",
       "    }\n",
       "\n",
       "    .dataframe thead th {\n",
       "        text-align: right;\n",
       "    }\n",
       "</style>\n",
       "<table border=\"1\" class=\"dataframe\">\n",
       "  <thead>\n",
       "    <tr style=\"text-align: right;\">\n",
       "      <th></th>\n",
       "      <th>NAME</th>\n",
       "      <th>PYTHON</th>\n",
       "      <th>STAT</th>\n",
       "      <th>TOTAL</th>\n",
       "      <th>PERCENTAGE</th>\n",
       "    </tr>\n",
       "  </thead>\n",
       "  <tbody>\n",
       "    <tr>\n",
       "      <th>5</th>\n",
       "      <td>Ansal M T</td>\n",
       "      <td>25</td>\n",
       "      <td>19</td>\n",
       "      <td>44</td>\n",
       "      <td>97.78</td>\n",
       "    </tr>\n",
       "    <tr>\n",
       "      <th>15</th>\n",
       "      <td>kiran k s</td>\n",
       "      <td>24</td>\n",
       "      <td>20</td>\n",
       "      <td>44</td>\n",
       "      <td>97.78</td>\n",
       "    </tr>\n",
       "    <tr>\n",
       "      <th>25</th>\n",
       "      <td>Ramshad TA</td>\n",
       "      <td>25</td>\n",
       "      <td>19</td>\n",
       "      <td>44</td>\n",
       "      <td>97.78</td>\n",
       "    </tr>\n",
       "  </tbody>\n",
       "</table>\n",
       "</div>"
      ],
      "text/plain": [
       "          NAME  PYTHON  STAT  TOTAL  PERCENTAGE\n",
       "5    Ansal M T      25    19     44       97.78\n",
       "15   kiran k s      24    20     44       97.78\n",
       "25  Ramshad TA      25    19     44       97.78"
      ]
     },
     "execution_count": 35,
     "metadata": {},
     "output_type": "execute_result"
    }
   ],
   "source": [
    "top_student"
   ]
  },
  {
   "cell_type": "markdown",
   "id": "7d10372c",
   "metadata": {},
   "source": [
    "## indexing"
   ]
  },
  {
   "cell_type": "code",
   "execution_count": 36,
   "id": "8598fba2",
   "metadata": {},
   "outputs": [
    {
     "data": {
      "text/plain": [
       "NAME          Ajith TA\n",
       "PYTHON              25\n",
       "STAT                15\n",
       "TOTAL               40\n",
       "PERCENTAGE       88.89\n",
       "Name: 1, dtype: object"
      ]
     },
     "execution_count": 36,
     "metadata": {},
     "output_type": "execute_result"
    }
   ],
   "source": [
    "df.loc[1]"
   ]
  },
  {
   "cell_type": "code",
   "execution_count": 37,
   "id": "967f0958",
   "metadata": {},
   "outputs": [
    {
     "data": {
      "text/plain": [
       "NAME          Ajith TA\n",
       "PYTHON              25\n",
       "STAT                15\n",
       "TOTAL               40\n",
       "PERCENTAGE       88.89\n",
       "Name: 1, dtype: object"
      ]
     },
     "execution_count": 37,
     "metadata": {},
     "output_type": "execute_result"
    }
   ],
   "source": [
    "df.iloc[1]"
   ]
  },
  {
   "cell_type": "code",
   "execution_count": 38,
   "id": "f9eacaad",
   "metadata": {},
   "outputs": [
    {
     "data": {
      "text/html": [
       "<div>\n",
       "<style scoped>\n",
       "    .dataframe tbody tr th:only-of-type {\n",
       "        vertical-align: middle;\n",
       "    }\n",
       "\n",
       "    .dataframe tbody tr th {\n",
       "        vertical-align: top;\n",
       "    }\n",
       "\n",
       "    .dataframe thead th {\n",
       "        text-align: right;\n",
       "    }\n",
       "</style>\n",
       "<table border=\"1\" class=\"dataframe\">\n",
       "  <thead>\n",
       "    <tr style=\"text-align: right;\">\n",
       "      <th></th>\n",
       "      <th>PYTHON</th>\n",
       "      <th>STAT</th>\n",
       "      <th>TOTAL</th>\n",
       "      <th>PERCENTAGE</th>\n",
       "    </tr>\n",
       "    <tr>\n",
       "      <th>NAME</th>\n",
       "      <th></th>\n",
       "      <th></th>\n",
       "      <th></th>\n",
       "      <th></th>\n",
       "    </tr>\n",
       "  </thead>\n",
       "  <tbody>\n",
       "    <tr>\n",
       "      <th>Abhimanyu Ravi CR</th>\n",
       "      <td>24</td>\n",
       "      <td>15</td>\n",
       "      <td>39</td>\n",
       "      <td>86.67</td>\n",
       "    </tr>\n",
       "    <tr>\n",
       "      <th>Ajith TA</th>\n",
       "      <td>25</td>\n",
       "      <td>15</td>\n",
       "      <td>40</td>\n",
       "      <td>88.89</td>\n",
       "    </tr>\n",
       "    <tr>\n",
       "      <th>AKSHAY A</th>\n",
       "      <td>24</td>\n",
       "      <td>18</td>\n",
       "      <td>42</td>\n",
       "      <td>93.33</td>\n",
       "    </tr>\n",
       "    <tr>\n",
       "      <th>Alen Tom Shaji</th>\n",
       "      <td>25</td>\n",
       "      <td>18</td>\n",
       "      <td>43</td>\n",
       "      <td>95.56</td>\n",
       "    </tr>\n",
       "    <tr>\n",
       "      <th>Anand Anil</th>\n",
       "      <td>25</td>\n",
       "      <td>16</td>\n",
       "      <td>41</td>\n",
       "      <td>91.11</td>\n",
       "    </tr>\n",
       "  </tbody>\n",
       "</table>\n",
       "</div>"
      ],
      "text/plain": [
       "                   PYTHON  STAT  TOTAL  PERCENTAGE\n",
       "NAME                                              \n",
       "Abhimanyu Ravi CR      24    15     39       86.67\n",
       "Ajith TA               25    15     40       88.89\n",
       "AKSHAY A               24    18     42       93.33\n",
       "Alen Tom Shaji         25    18     43       95.56\n",
       "Anand Anil             25    16     41       91.11"
      ]
     },
     "execution_count": 38,
     "metadata": {},
     "output_type": "execute_result"
    }
   ],
   "source": [
    "df.set_index('NAME',inplace=True)\n",
    "df.head()"
   ]
  },
  {
   "cell_type": "code",
   "execution_count": 40,
   "id": "a2f3a097",
   "metadata": {},
   "outputs": [
    {
     "data": {
      "text/plain": [
       "PYTHON        25.00\n",
       "STAT          15.00\n",
       "TOTAL         40.00\n",
       "PERCENTAGE    88.89\n",
       "Name: Ajith TA, dtype: float64"
      ]
     },
     "execution_count": 40,
     "metadata": {},
     "output_type": "execute_result"
    }
   ],
   "source": [
    "df.loc['Ajith TA']"
   ]
  },
  {
   "cell_type": "code",
   "execution_count": 42,
   "id": "7eae9cc4",
   "metadata": {},
   "outputs": [
    {
     "data": {
      "text/plain": [
       "PYTHON        25.00\n",
       "STAT          15.00\n",
       "TOTAL         40.00\n",
       "PERCENTAGE    88.89\n",
       "Name: Ajith TA, dtype: float64"
      ]
     },
     "execution_count": 42,
     "metadata": {},
     "output_type": "execute_result"
    }
   ],
   "source": [
    "df.iloc[1]"
   ]
  },
  {
   "cell_type": "markdown",
   "id": "7e16ab16",
   "metadata": {},
   "source": [
    "## conditional operator"
   ]
  },
  {
   "cell_type": "code",
   "execution_count": 43,
   "id": "30cba4da",
   "metadata": {},
   "outputs": [
    {
     "data": {
      "text/html": [
       "<div>\n",
       "<style scoped>\n",
       "    .dataframe tbody tr th:only-of-type {\n",
       "        vertical-align: middle;\n",
       "    }\n",
       "\n",
       "    .dataframe tbody tr th {\n",
       "        vertical-align: top;\n",
       "    }\n",
       "\n",
       "    .dataframe thead th {\n",
       "        text-align: right;\n",
       "    }\n",
       "</style>\n",
       "<table border=\"1\" class=\"dataframe\">\n",
       "  <thead>\n",
       "    <tr style=\"text-align: right;\">\n",
       "      <th></th>\n",
       "      <th>PYTHON</th>\n",
       "      <th>STAT</th>\n",
       "      <th>TOTAL</th>\n",
       "      <th>PERCENTAGE</th>\n",
       "    </tr>\n",
       "    <tr>\n",
       "      <th>NAME</th>\n",
       "      <th></th>\n",
       "      <th></th>\n",
       "      <th></th>\n",
       "      <th></th>\n",
       "    </tr>\n",
       "  </thead>\n",
       "  <tbody>\n",
       "    <tr>\n",
       "      <th>AKSHAY A</th>\n",
       "      <td>24</td>\n",
       "      <td>18</td>\n",
       "      <td>42</td>\n",
       "      <td>93.33</td>\n",
       "    </tr>\n",
       "    <tr>\n",
       "      <th>Alen Tom Shaji</th>\n",
       "      <td>25</td>\n",
       "      <td>18</td>\n",
       "      <td>43</td>\n",
       "      <td>95.56</td>\n",
       "    </tr>\n",
       "    <tr>\n",
       "      <th>Anand Anil</th>\n",
       "      <td>25</td>\n",
       "      <td>16</td>\n",
       "      <td>41</td>\n",
       "      <td>91.11</td>\n",
       "    </tr>\n",
       "    <tr>\n",
       "      <th>Ansal M T</th>\n",
       "      <td>25</td>\n",
       "      <td>19</td>\n",
       "      <td>44</td>\n",
       "      <td>97.78</td>\n",
       "    </tr>\n",
       "    <tr>\n",
       "      <th>HARIPRIYA.K.U</th>\n",
       "      <td>24</td>\n",
       "      <td>17</td>\n",
       "      <td>41</td>\n",
       "      <td>91.11</td>\n",
       "    </tr>\n",
       "    <tr>\n",
       "      <th>keerthi ravi</th>\n",
       "      <td>25</td>\n",
       "      <td>16</td>\n",
       "      <td>41</td>\n",
       "      <td>91.11</td>\n",
       "    </tr>\n",
       "    <tr>\n",
       "      <th>kiran k s</th>\n",
       "      <td>24</td>\n",
       "      <td>20</td>\n",
       "      <td>44</td>\n",
       "      <td>97.78</td>\n",
       "    </tr>\n",
       "    <tr>\n",
       "      <th>Mancy Mamachan</th>\n",
       "      <td>25</td>\n",
       "      <td>16</td>\n",
       "      <td>41</td>\n",
       "      <td>91.11</td>\n",
       "    </tr>\n",
       "    <tr>\n",
       "      <th>Muhammed Siraj k</th>\n",
       "      <td>24</td>\n",
       "      <td>19</td>\n",
       "      <td>43</td>\n",
       "      <td>95.56</td>\n",
       "    </tr>\n",
       "    <tr>\n",
       "      <th>RAHUL N</th>\n",
       "      <td>25</td>\n",
       "      <td>16</td>\n",
       "      <td>41</td>\n",
       "      <td>91.11</td>\n",
       "    </tr>\n",
       "    <tr>\n",
       "      <th>Ramshad TA</th>\n",
       "      <td>25</td>\n",
       "      <td>19</td>\n",
       "      <td>44</td>\n",
       "      <td>97.78</td>\n",
       "    </tr>\n",
       "    <tr>\n",
       "      <th>Sanika Sajeevan</th>\n",
       "      <td>25</td>\n",
       "      <td>17</td>\n",
       "      <td>42</td>\n",
       "      <td>93.33</td>\n",
       "    </tr>\n",
       "    <tr>\n",
       "      <th>shammas n m</th>\n",
       "      <td>24</td>\n",
       "      <td>17</td>\n",
       "      <td>41</td>\n",
       "      <td>91.11</td>\n",
       "    </tr>\n",
       "    <tr>\n",
       "      <th>SWATHIAS</th>\n",
       "      <td>25</td>\n",
       "      <td>16</td>\n",
       "      <td>41</td>\n",
       "      <td>91.11</td>\n",
       "    </tr>\n",
       "    <tr>\n",
       "      <th>Vishnu Mukundan</th>\n",
       "      <td>24</td>\n",
       "      <td>17</td>\n",
       "      <td>41</td>\n",
       "      <td>91.11</td>\n",
       "    </tr>\n",
       "  </tbody>\n",
       "</table>\n",
       "</div>"
      ],
      "text/plain": [
       "                  PYTHON  STAT  TOTAL  PERCENTAGE\n",
       "NAME                                             \n",
       "AKSHAY A              24    18     42       93.33\n",
       "Alen Tom Shaji        25    18     43       95.56\n",
       "Anand Anil            25    16     41       91.11\n",
       "Ansal M T             25    19     44       97.78\n",
       "HARIPRIYA.K.U         24    17     41       91.11\n",
       "keerthi ravi          25    16     41       91.11\n",
       "kiran k s             24    20     44       97.78\n",
       "Mancy Mamachan        25    16     41       91.11\n",
       "Muhammed Siraj k      24    19     43       95.56\n",
       "RAHUL N               25    16     41       91.11\n",
       "Ramshad TA            25    19     44       97.78\n",
       "Sanika Sajeevan       25    17     42       93.33\n",
       "shammas n m           24    17     41       91.11\n",
       "SWATHIAS              25    16     41       91.11\n",
       "Vishnu Mukundan       24    17     41       91.11"
      ]
     },
     "execution_count": 43,
     "metadata": {},
     "output_type": "execute_result"
    }
   ],
   "source": [
    "df[df['TOTAL']>40]"
   ]
  },
  {
   "cell_type": "code",
   "execution_count": 44,
   "id": "4a45ac72",
   "metadata": {},
   "outputs": [
    {
     "data": {
      "text/html": [
       "<div>\n",
       "<style scoped>\n",
       "    .dataframe tbody tr th:only-of-type {\n",
       "        vertical-align: middle;\n",
       "    }\n",
       "\n",
       "    .dataframe tbody tr th {\n",
       "        vertical-align: top;\n",
       "    }\n",
       "\n",
       "    .dataframe thead th {\n",
       "        text-align: right;\n",
       "    }\n",
       "</style>\n",
       "<table border=\"1\" class=\"dataframe\">\n",
       "  <thead>\n",
       "    <tr style=\"text-align: right;\">\n",
       "      <th></th>\n",
       "      <th>PYTHON</th>\n",
       "      <th>STAT</th>\n",
       "      <th>TOTAL</th>\n",
       "      <th>PERCENTAGE</th>\n",
       "    </tr>\n",
       "    <tr>\n",
       "      <th>NAME</th>\n",
       "      <th></th>\n",
       "      <th></th>\n",
       "      <th></th>\n",
       "      <th></th>\n",
       "    </tr>\n",
       "  </thead>\n",
       "  <tbody>\n",
       "    <tr>\n",
       "      <th>Ansal M T</th>\n",
       "      <td>25</td>\n",
       "      <td>19</td>\n",
       "      <td>44</td>\n",
       "      <td>97.78</td>\n",
       "    </tr>\n",
       "    <tr>\n",
       "      <th>kiran k s</th>\n",
       "      <td>24</td>\n",
       "      <td>20</td>\n",
       "      <td>44</td>\n",
       "      <td>97.78</td>\n",
       "    </tr>\n",
       "    <tr>\n",
       "      <th>Ramshad TA</th>\n",
       "      <td>25</td>\n",
       "      <td>19</td>\n",
       "      <td>44</td>\n",
       "      <td>97.78</td>\n",
       "    </tr>\n",
       "  </tbody>\n",
       "</table>\n",
       "</div>"
      ],
      "text/plain": [
       "            PYTHON  STAT  TOTAL  PERCENTAGE\n",
       "NAME                                       \n",
       "Ansal M T       25    19     44       97.78\n",
       "kiran k s       24    20     44       97.78\n",
       "Ramshad TA      25    19     44       97.78"
      ]
     },
     "execution_count": 44,
     "metadata": {},
     "output_type": "execute_result"
    }
   ],
   "source": [
    "df[df['TOTAL']==df['TOTAL'].max()]"
   ]
  },
  {
   "cell_type": "code",
   "execution_count": null,
   "id": "c03e9b7b",
   "metadata": {},
   "outputs": [],
   "source": []
  },
  {
   "cell_type": "code",
   "execution_count": null,
   "id": "97a9dd98",
   "metadata": {},
   "outputs": [],
   "source": []
  },
  {
   "cell_type": "code",
   "execution_count": null,
   "id": "693164de",
   "metadata": {},
   "outputs": [],
   "source": []
  }
 ],
 "metadata": {
  "kernelspec": {
   "display_name": "Python 3 (ipykernel)",
   "language": "python",
   "name": "python3"
  },
  "language_info": {
   "codemirror_mode": {
    "name": "ipython",
    "version": 3
   },
   "file_extension": ".py",
   "mimetype": "text/x-python",
   "name": "python",
   "nbconvert_exporter": "python",
   "pygments_lexer": "ipython3",
   "version": "3.9.13"
  }
 },
 "nbformat": 4,
 "nbformat_minor": 5
}
